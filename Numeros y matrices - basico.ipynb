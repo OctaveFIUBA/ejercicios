{
 "cells": [
  {
   "cell_type": "markdown",
   "metadata": {},
   "source": [
    "# Calculadora"
   ]
  },
  {
   "cell_type": "markdown",
   "metadata": {},
   "source": [
    "Octave maneja reales y complejos de forma nativa y transparente."
   ]
  },
  {
   "cell_type": "code",
   "execution_count": 1,
   "metadata": {
    "collapsed": false
   },
   "outputs": [
    {
     "name": "stdout",
     "output_type": "stream",
     "text": [
      "ans =   1.2765e+004\n"
     ]
    }
   ],
   "source": [
    "% Opero con reales\n",
    "1+(3*4 - 5^3)^2 - sqrt(32) * cos(pi/6)"
   ]
  },
  {
   "cell_type": "code",
   "execution_count": 2,
   "metadata": {
    "collapsed": false
   },
   "outputs": [
    {
     "name": "stdout",
     "output_type": "stream",
     "text": [
      "ans =  0 + 1i\n"
     ]
    }
   ],
   "source": [
    "% Aparece un complejo\n",
    "sqrt(-1)"
   ]
  },
  {
   "cell_type": "code",
   "execution_count": 3,
   "metadata": {
    "collapsed": false
   },
   "outputs": [
    {
     "name": "stdout",
     "output_type": "stream",
     "text": [
      "ans =  5 - 4i\n"
     ]
    }
   ],
   "source": [
    "% Opero con complejos. i y j son indistintos (pero usa uno, no seas gil)\n",
    "(3+2j)*(1-1i) - (0+3j)"
   ]
  },
  {
   "cell_type": "markdown",
   "metadata": {},
   "source": [
    "## Definir variables"
   ]
  },
  {
   "cell_type": "markdown",
   "metadata": {},
   "source": [
    "La calculadora más simple posee una memoria al menos. Octave tiene muchas, para guardar muuuchos números :P"
   ]
  },
  {
   "cell_type": "code",
   "execution_count": 4,
   "metadata": {
    "collapsed": false
   },
   "outputs": [
    {
     "name": "stdout",
     "output_type": "stream",
     "text": [
      "cantidad =  70\n"
     ]
    }
   ],
   "source": [
    "% Para guardar un número en una variable se usa el operador =\n",
    "cantidad = 70"
   ]
  },
  {
   "cell_type": "code",
   "execution_count": 5,
   "metadata": {
    "collapsed": false
   },
   "outputs": [
    {
     "name": "stdout",
     "output_type": "stream",
     "text": [
      "ans =  23.333\n"
     ]
    }
   ],
   "source": [
    "% De ahora en más, puedo operar con \"cantidad\"\n",
    "cantidad/3"
   ]
  },
  {
   "cell_type": "code",
   "execution_count": 6,
   "metadata": {
    "collapsed": false
   },
   "outputs": [
    {
     "name": "stdout",
     "output_type": "stream",
     "text": [
      "tazas =  206\n"
     ]
    }
   ],
   "source": [
    "% Y guardar el resultado en otra variable, por ejemplo\n",
    "tazas = 3*cantidad -4"
   ]
  },
  {
   "cell_type": "markdown",
   "metadata": {},
   "source": [
    "### Cuidados a tener"
   ]
  },
  {
   "cell_type": "code",
   "execution_count": 7,
   "metadata": {
    "collapsed": false
   },
   "outputs": [
    {
     "name": "stdout",
     "output_type": "stream",
     "text": [
      "a =  3 + 1i\n"
     ]
    }
   ],
   "source": [
    "% Usar i o j a secas como unidad compleja es malo, se puede confundir como una variable\n",
    "% Esto ahora, anda como se espera\n",
    "a = 3+i"
   ]
  },
  {
   "cell_type": "code",
   "execution_count": 8,
   "metadata": {
    "collapsed": false
   },
   "outputs": [
    {
     "name": "stdout",
     "output_type": "stream",
     "text": [
      "i =  7\n"
     ]
    }
   ],
   "source": [
    "% Pero, si alguien *malvado* define una variable llamada \"i\" (que es un nombre común en programación)\n",
    "i = 7"
   ]
  },
  {
   "cell_type": "code",
   "execution_count": 9,
   "metadata": {
    "collapsed": false
   },
   "outputs": [
    {
     "name": "stdout",
     "output_type": "stream",
     "text": [
      "b =  10\n"
     ]
    }
   ],
   "source": [
    "% Ahora, tenemos un problemita\n",
    "b = 3 + i"
   ]
  },
  {
   "cell_type": "code",
   "execution_count": 10,
   "metadata": {
    "collapsed": false
   },
   "outputs": [
    {
     "name": "stdout",
     "output_type": "stream",
     "text": [
      "c =  3 + 1i\n"
     ]
    }
   ],
   "source": [
    "% Para evitar esto, usamos 1i o 1j:\n",
    "c = 3 + 1j"
   ]
  },
  {
   "cell_type": "markdown",
   "metadata": {},
   "source": [
    "# Ver y borrar variables definidas"
   ]
  },
  {
   "cell_type": "code",
   "execution_count": 11,
   "metadata": {
    "collapsed": false
   },
   "outputs": [
    {
     "name": "stdout",
     "output_type": "stream",
     "text": [
      "Variables in the current scope:\n",
      "   Attr Name             Size                     Bytes  Class\n",
      "   ==== ====             ====                     =====  ===== \n",
      "        _figHandles      0x1                          0  double\n",
      "   c    a                1x1                         16  double\n",
      "        ans              1x1                          8  double\n",
      "        b                1x1                          8  double\n",
      "   c    c                1x1                         16  double\n",
      "        cantidad         1x1                          8  double\n",
      "        i                1x1                          8  double\n",
      "        tazas            1x1                          8  double\n",
      "Total is 7 elements using 72 bytes\n"
     ]
    }
   ],
   "source": [
    "% Voy a mostar todas las variables que definí\n",
    "whos"
   ]
  },
  {
   "cell_type": "code",
   "execution_count": 12,
   "metadata": {
    "collapsed": false
   },
   "outputs": [
    {
     "name": "stdout",
     "output_type": "stream",
     "text": [
      "Variables in the current scope:\n",
      "   Attr Name             Size                     Bytes  Class\n",
      "   ==== ====             ====                     =====  ===== \n",
      "        _figHandles      0x1                          0  double\n",
      "   c    a                1x1                         16  double\n",
      "        ans              1x1                          8  double\n",
      "        b                1x1                          8  double\n",
      "   c    c                1x1                         16  double\n",
      "        cantidad         1x1                          8  double\n",
      "        i                1x1                          8  double\n",
      "        tazas            1x1                          8  double\n",
      "Total is 7 elements using 72 bytes\n"
     ]
    }
   ],
   "source": [
    "% Ahora voy a borrar A\n",
    "clear A\n",
    "\n",
    "% Y muestro las variables de nuevo\n",
    "whos"
   ]
  },
  {
   "cell_type": "code",
   "execution_count": 13,
   "metadata": {
    "collapsed": true
   },
   "outputs": [],
   "source": [
    "% Ahora, borro todas\n",
    "clear all\n",
    "\n",
    "% Veamos que pasó\n",
    "whos"
   ]
  },
  {
   "cell_type": "markdown",
   "metadata": {},
   "source": [
    "### Cuidados II"
   ]
  },
  {
   "cell_type": "code",
   "execution_count": 14,
   "metadata": {
    "collapsed": false
   },
   "outputs": [
    {
     "name": "stdout",
     "output_type": "stream",
     "text": [
      "ans = -1\n"
     ]
    }
   ],
   "source": [
    "% Si alguien llama a una variable como una función (por ejemplo, sin, cos, sqrt, etc) estamos en problema\n",
    "cos(pi)"
   ]
  },
  {
   "cell_type": "code",
   "execution_count": 15,
   "metadata": {
    "collapsed": false
   },
   "outputs": [
    {
     "name": "stdout",
     "output_type": "stream",
     "text": [
      "cos =  17\n"
     ]
    }
   ],
   "source": [
    "% Ahora, supongamos que ponemos\n",
    "cos = 17"
   ]
  },
  {
   "cell_type": "code",
   "execution_count": 16,
   "metadata": {
    "collapsed": false
   },
   "outputs": [],
   "source": [
    "% Y de repente, la cagamos\n",
    "%cos(pi)"
   ]
  },
  {
   "cell_type": "code",
   "execution_count": 17,
   "metadata": {
    "collapsed": true
   },
   "outputs": [],
   "source": [
    "% Pero podemos hacer esto\n",
    "clear cos"
   ]
  },
  {
   "cell_type": "code",
   "execution_count": 18,
   "metadata": {
    "collapsed": false
   },
   "outputs": [
    {
     "name": "stdout",
     "output_type": "stream",
     "text": [
      "ans = -1\n"
     ]
    }
   ],
   "source": [
    "% Y ahora anda, pero el que hizo esa cagada nos debe un alfajor (por gil)\n",
    "cos(pi)"
   ]
  },
  {
   "cell_type": "markdown",
   "metadata": {},
   "source": [
    "# Vectores y matrices"
   ]
  },
  {
   "cell_type": "markdown",
   "metadata": {},
   "source": [
    "En Octave, el tipo \"basico\" de datos es una matriz. Un vector es un caso particular de una matriz de 1xn o nx1.\n",
    "Las matrices se arman poniendo números entre corchetes [].\n",
    "\n",
    "Las columnas se separan con espacios o comas.\n",
    "Las filas se separan con saltos de línea (enter) o punto y coma.\n",
    "\n",
    "El ; final en un comando evita que se muestre el resultado (se guarda, pero no se muestra)"
   ]
  },
  {
   "cell_type": "code",
   "execution_count": 19,
   "metadata": {
    "collapsed": false
   },
   "outputs": [],
   "source": [
    "% Armo un vector (fila) con las edades de gente, y lo guardo en una variable llamada \"edades\"\n",
    "edades = [25 22 19];\n",
    "\n",
    "% Armo una matriz de 4x4\n",
    "M = [1 3  4 1\n",
    "     4 2  1 7\n",
    "     0 7 -2 1];"
   ]
  },
  {
   "cell_type": "code",
   "execution_count": 20,
   "metadata": {
    "collapsed": false
   },
   "outputs": [
    {
     "name": "stdout",
     "output_type": "stream",
     "text": [
      "y =\n",
      "   113   252    84   198\n"
     ]
    }
   ],
   "source": [
    "% Premultiplico el vector fila por la matriz, guardo en \"y\" y muestro el resultado\n",
    "y = edades*M"
   ]
  },
  {
   "cell_type": "code",
   "execution_count": 21,
   "metadata": {
    "collapsed": true
   },
   "outputs": [],
   "source": [
    "% Ahora me armo un vector columna\n",
    "columna = [1; 0; 1; 5]; % Si en lugar de ; pongo un enter anda, pero queda feo."
   ]
  },
  {
   "cell_type": "code",
   "execution_count": 22,
   "metadata": {
    "collapsed": false
   },
   "outputs": [
    {
     "name": "stdout",
     "output_type": "stream",
     "text": [
      "x =\n",
      "   10\n",
      "   40\n",
      "    3\n"
     ]
    }
   ],
   "source": [
    "% Postmultiplico la matriz por el vector columna, guardo en \"x\" y muestro el resultado\n",
    "x = M*columna"
   ]
  },
  {
   "cell_type": "code",
   "execution_count": 23,
   "metadata": {
    "collapsed": false
   },
   "outputs": [
    {
     "name": "stdout",
     "output_type": "stream",
     "text": [
      "x =  1\n"
     ]
    }
   ],
   "source": [
    "% Ahora hago el producto interno entre dos vectores de R^4\n",
    "v1 = [1\n",
    "      2\n",
    "      -1\n",
    "      5];\n",
    "v2 = [0\n",
    "      -2\n",
    "      0\n",
    "      1];\n",
    "      \n",
    "x= v1'*v2"
   ]
  },
  {
   "cell_type": "code",
   "execution_count": 24,
   "metadata": {
    "collapsed": false
   },
   "outputs": [
    {
     "name": "stdout",
     "output_type": "stream",
     "text": [
      "A =\n",
      "    0   -2    0    1\n",
      "    0   -4    0    2\n",
      "    0    2    0   -1\n",
      "    0  -10    0    5\n"
     ]
    }
   ],
   "source": [
    "% Ahora hago el producto externo con los vectores anteriores\n",
    "A = v1*v2'"
   ]
  },
  {
   "cell_type": "code",
   "execution_count": 25,
   "metadata": {
    "collapsed": false
   },
   "outputs": [
    {
     "name": "stdout",
     "output_type": "stream",
     "text": [
      "ans =  1\n"
     ]
    }
   ],
   "source": [
    "% Propiedad mágica (la traza del producto externo es el prod. interno)\n",
    "trace(A)"
   ]
  },
  {
   "cell_type": "markdown",
   "metadata": {},
   "source": [
    "### Multiplicación por un escalar"
   ]
  },
  {
   "cell_type": "code",
   "execution_count": 26,
   "metadata": {
    "collapsed": true
   },
   "outputs": [],
   "source": [
    "% Antes que nada, voy a borrar todas las variables que definí antes\n",
    "clear all;"
   ]
  },
  {
   "cell_type": "code",
   "execution_count": 27,
   "metadata": {
    "collapsed": false
   },
   "outputs": [
    {
     "name": "stdout",
     "output_type": "stream",
     "text": [
      "b =\n",
      "   3   0  -6   3\n"
     ]
    }
   ],
   "source": [
    "% No es nada extraño\n",
    "a = [1 0 -2 1];\n",
    "b = 3*a"
   ]
  },
  {
   "cell_type": "markdown",
   "metadata": {},
   "source": [
    "### Operaciones elemento a elemento"
   ]
  },
  {
   "cell_type": "code",
   "execution_count": 28,
   "metadata": {
    "collapsed": true
   },
   "outputs": [],
   "source": [
    "% A veces, queremos multiplicar elemento a elemento un vector por otro, ejemplo:\n",
    "% Recordemos la ley de Ohm: V=I*R\n",
    "% Supongamos que tengo mediciones de R e I en vectores y quiero multiplicarlos\n",
    "I = [3.2 0.5 1E-3 2];\n",
    "R = [2  10   2.2E3 0.1];"
   ]
  },
  {
   "cell_type": "code",
   "execution_count": 29,
   "metadata": {
    "collapsed": false
   },
   "outputs": [],
   "source": [
    "% Si hago simplemente la multiplicación matricial... no anda\n",
    "%V = I*R"
   ]
  },
  {
   "cell_type": "code",
   "execution_count": 30,
   "metadata": {
    "collapsed": false
   },
   "outputs": [
    {
     "name": "stdout",
     "output_type": "stream",
     "text": [
      "V =\n",
      "   6.40000   5.00000   2.20000   0.20000\n"
     ]
    }
   ],
   "source": [
    "% Ahora, si hago esto todo bien :)\n",
    "V = I.*R"
   ]
  },
  {
   "cell_type": "code",
   "execution_count": 31,
   "metadata": {
    "collapsed": false
   },
   "outputs": [
    {
     "name": "stdout",
     "output_type": "stream",
     "text": [
      "ans =\n",
      "   -1   10\n",
      "   -5   14\n"
     ]
    }
   ],
   "source": [
    "% Lo mismo, si tengo una matriz cuadrada la puedo potenciar\n",
    "A=[1 2; -1 4];\n",
    "A^2"
   ]
  },
  {
   "cell_type": "code",
   "execution_count": 32,
   "metadata": {
    "collapsed": false
   },
   "outputs": [
    {
     "name": "stdout",
     "output_type": "stream",
     "text": [
      "ans =\n",
      "  -11   38\n",
      "  -19   46\n"
     ]
    }
   ],
   "source": [
    "A^3"
   ]
  },
  {
   "cell_type": "code",
   "execution_count": 33,
   "metadata": {
    "collapsed": true
   },
   "outputs": [],
   "source": [
    "% Pero elevar un vector al cuadrado no anda\n",
    "%I^2"
   ]
  },
  {
   "cell_type": "code",
   "execution_count": 34,
   "metadata": {
    "collapsed": false
   },
   "outputs": [
    {
     "name": "stdout",
     "output_type": "stream",
     "text": [
      "ans =\n",
      "  1.0240e+001  2.5000e-001  1.0000e-006  4.0000e+000\n"
     ]
    }
   ],
   "source": [
    "% A menos que use la potenciación elemento a elemento\n",
    "I.^2"
   ]
  },
  {
   "cell_type": "code",
   "execution_count": 35,
   "metadata": {
    "collapsed": false
   },
   "outputs": [
    {
     "name": "stdout",
     "output_type": "stream",
     "text": [
      "P =\n",
      "  2.0480e+001  2.5000e+000  2.2000e-003  4.0000e-001\n"
     ]
    }
   ],
   "source": [
    "% Por ejemplo:\n",
    "P = I.^2 .* R"
   ]
  }
 ],
 "metadata": {
  "kernelspec": {
   "display_name": "Octave",
   "language": "octave",
   "name": "octave"
  },
  "language_info": {
   "file_extension": ".m",
   "help_links": [
    {
     "text": "MetaKernel Magics",
     "url": "https://github.com/calysto/metakernel/blob/master/metakernel/magics/README.md"
    }
   ],
   "mimetype": "text/x-octave",
   "name": "octave",
   "version": "0.15.7"
  }
 },
 "nbformat": 4,
 "nbformat_minor": 0
}
