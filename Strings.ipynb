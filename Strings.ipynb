{
 "cells": [
  {
   "cell_type": "markdown",
   "metadata": {},
   "source": [
    "## Texto"
   ]
  },
  {
   "cell_type": "markdown",
   "metadata": {},
   "source": [
    "En Octave se pueden almacenar cadenas de texto como un vector de carácteres (tipo char). Para delimitar texto, se pueden utilizar 'comillas simples' o \"comillas dobles\" indistintamente. *Matlab sólo soporta comillas simples*"
   ]
  },
  {
   "cell_type": "code",
   "execution_count": 1,
   "metadata": {
    "collapsed": false
   },
   "outputs": [
    {
     "name": "stdout",
     "output_type": "stream",
     "text": [
      "mensajito = Ola ke asé.\n"
     ]
    }
   ],
   "source": [
    "mensajito = \"Ola ke asé.\""
   ]
  },
  {
   "cell_type": "markdown",
   "metadata": {},
   "source": [
    "Una vez que tenemos una variable guardada en un string, ponemos indexarla como cualquier vector."
   ]
  },
  {
   "cell_type": "code",
   "execution_count": 2,
   "metadata": {
    "collapsed": false
   },
   "outputs": [
    {
     "name": "stdout",
     "output_type": "stream",
     "text": [
      "ans = a\n"
     ]
    }
   ],
   "source": [
    "mensajito(3)"
   ]
  },
  {
   "cell_type": "markdown",
   "metadata": {},
   "source": [
    "El tipo *char* es simplemente un número (tal vez entre 0 y 255), por lo cual se puede hacer algo así:"
   ]
  },
  {
   "cell_type": "code",
   "execution_count": 3,
   "metadata": {
    "collapsed": false
   },
   "outputs": [
    {
     "name": "stdout",
     "output_type": "stream",
     "text": [
      "ans =  196\n"
     ]
    }
   ],
   "source": [
    "mensajito(end-2)+1"
   ]
  },
  {
   "cell_type": "markdown",
   "metadata": {},
   "source": [
    "### Concatenar texto"
   ]
  },
  {
   "cell_type": "markdown",
   "metadata": {},
   "source": [
    "Dado que los string son vectores (fila) éstos se concatenan de igual forma que los vectores"
   ]
  },
  {
   "cell_type": "code",
   "execution_count": 4,
   "metadata": {
    "collapsed": false
   },
   "outputs": [
    {
     "name": "stdout",
     "output_type": "stream",
     "text": [
      "concatenado = Esto es un string\n"
     ]
    }
   ],
   "source": [
    "texto1 = 'Esto es un';\n",
    "texto2 = ' string';\n",
    "\n",
    "concatenado = [texto1 texto2]"
   ]
  },
  {
   "cell_type": "markdown",
   "metadata": {},
   "source": [
    "## Funciones para manejo de strings"
   ]
  },
  {
   "cell_type": "markdown",
   "metadata": {},
   "source": [
    "### disp( *texto* )"
   ]
  },
  {
   "cell_type": "markdown",
   "metadata": {},
   "source": [
    "La función *disp()* muestra por pantalla el contenido de una variable (sea numérica o string)"
   ]
  },
  {
   "cell_type": "code",
   "execution_count": 5,
   "metadata": {
    "collapsed": false
   },
   "outputs": [
    {
     "name": "stdout",
     "output_type": "stream",
     "text": [
      "Ola ke asé.\n"
     ]
    }
   ],
   "source": [
    "disp(mensajito)"
   ]
  },
  {
   "cell_type": "markdown",
   "metadata": {},
   "source": [
    "### num2str( *texto*, *dígitos*)"
   ]
  },
  {
   "cell_type": "markdown",
   "metadata": {},
   "source": [
    "Para convertir numeros a strings tenemos la funcion *num2str()*"
   ]
  },
  {
   "cell_type": "code",
   "execution_count": 6,
   "metadata": {
    "collapsed": false
   },
   "outputs": [
    {
     "name": "stdout",
     "output_type": "stream",
     "text": [
      "texto = 431.232\n"
     ]
    }
   ],
   "source": [
    "clear all;\n",
    "\n",
    "numero = 431.232112;\n",
    "texto = num2str(numero)"
   ]
  },
  {
   "cell_type": "code",
   "execution_count": 7,
   "metadata": {
    "collapsed": false
   },
   "outputs": [
    {
     "name": "stdout",
     "output_type": "stream",
     "text": [
      "Variables in the current scope:\n",
      "   Attr Name             Size                     Bytes  Class\n",
      "   ==== ====             ====                     =====  ===== \n",
      "        _figHandles      0x1                          0  double\n",
      "        numero           1x1                          8  double\n",
      "        texto            1x7                          7  char\n",
      "Total is 8 elements using 15 bytes\n"
     ]
    }
   ],
   "source": [
    "whos % Observemos que la variable texto es de tipo char"
   ]
  },
  {
   "cell_type": "markdown",
   "metadata": {},
   "source": [
    "Y podemos concatenar texto y números de la forma:"
   ]
  },
  {
   "cell_type": "code",
   "execution_count": 8,
   "metadata": {
    "collapsed": false
   },
   "outputs": [
    {
     "name": "stdout",
     "output_type": "stream",
     "text": [
      "mensaje = Pi vale 3.1416 :)\n"
     ]
    }
   ],
   "source": [
    "mensaje = ['Pi vale ' num2str(pi) ' :)']"
   ]
  },
  {
   "cell_type": "markdown",
   "metadata": {},
   "source": [
    "Y a *num2str* se le puede pasar como segundo parámetro la cantidad de dígitos (pero es bastante limitado)"
   ]
  },
  {
   "cell_type": "code",
   "execution_count": 9,
   "metadata": {
    "collapsed": false
   },
   "outputs": [
    {
     "name": "stdout",
     "output_type": "stream",
     "text": [
      "mensaje2 = Pi vale 3.141593 :)\n"
     ]
    }
   ],
   "source": [
    "mensaje2 = ['Pi vale ' num2str(pi,7) ' :)']"
   ]
  },
  {
   "cell_type": "markdown",
   "metadata": {},
   "source": [
    "### printf( *formato*, *var1*, ..., *varN* )"
   ]
  },
  {
   "cell_type": "markdown",
   "metadata": {},
   "source": [
    "*printf()* reemplaza los elementos con % con cada uno de los parámetros. Estos modificadores funcionan de la forma:\n",
    "- %d    Imprime un número entero\n",
    "- %f    Imprime un número decimal\n",
    "- %.3f  Imprime un número con 3 cifras significativas\n",
    "- %c    Imprime un caracter\n",
    "- para más info, help printf\n",
    "\n",
    "Para insertar caracteres especiales, se usan los siguientes códigos:\n",
    "- \\n    Salto de línea (enter)\n",
    "- \\t    Tabulación\n",
    "\n",
    "Es importante terminar un printf con un \\n para bajar el cursor a la línea de abajo."
   ]
  },
  {
   "cell_type": "code",
   "execution_count": 10,
   "metadata": {
    "collapsed": false
   },
   "outputs": [
    {
     "name": "stdout",
     "output_type": "stream",
     "text": [
      "Pi vale 3.142\n"
     ]
    }
   ],
   "source": [
    "printf('Pi vale %.3f\\n', pi)"
   ]
  },
  {
   "cell_type": "code",
   "execution_count": 11,
   "metadata": {
    "collapsed": false
   },
   "outputs": [
    {
     "name": "stdout",
     "output_type": "stream",
     "text": [
      "Pi vale 3.1415926536, un número es 15 y pi con menos digitos es 3.14\n"
     ]
    }
   ],
   "source": [
    "printf('Pi vale %.10f, un número es %d y pi con menos digitos es %.2f\\n', pi, 15, pi)"
   ]
  },
  {
   "cell_type": "markdown",
   "metadata": {},
   "source": [
    "*printf()* devuelve la cantidad de carácteres que escribió"
   ]
  },
  {
   "cell_type": "code",
   "execution_count": 14,
   "metadata": {
    "collapsed": false
   },
   "outputs": [
    {
     "name": "stdout",
     "output_type": "stream",
     "text": [
      "Pi vale 3.1415926536, un número es 15 y pi con menos digitos es 3.14\n",
      " 70\n"
     ]
    }
   ],
   "source": [
    "nro = printf('Pi vale %.10f, un número es %d y pi con menos digitos es %.2f\\n', pi, 15, pi);\n",
    "disp(nro) % Contar y verificar si son 70 (no olvidar el \\n)"
   ]
  },
  {
   "cell_type": "markdown",
   "metadata": {},
   "source": [
    "Si queremos guardar el texto en una variable en lugar de mostrarlo por pantalla, tenemos sprintf()"
   ]
  },
  {
   "cell_type": "code",
   "execution_count": 16,
   "metadata": {
    "collapsed": false
   },
   "outputs": [],
   "source": [
    "texto = sprintf('Pi vale %.10f, un número es %d y pi con menos digitos es %.2f\\n', pi, 15, pi);"
   ]
  },
  {
   "cell_type": "code",
   "execution_count": 18,
   "metadata": {
    "collapsed": false
   },
   "outputs": [
    {
     "name": "stdout",
     "output_type": "stream",
     "text": [
      "Pi vale 3.1415926536, un número es 15 y pi con menos digitos es 3.14\n"
     ]
    }
   ],
   "source": [
    "% Y lo mostramos\n",
    "disp(texto)"
   ]
  },
  {
   "cell_type": "markdown",
   "metadata": {},
   "source": [
    "Cuando a *printf* se le pasa un vector, pasa esto:"
   ]
  },
  {
   "cell_type": "code",
   "execution_count": 1,
   "metadata": {
    "collapsed": false
   },
   "outputs": [
    {
     "name": "stdout",
     "output_type": "stream",
     "text": [
      "Imprimo 1\n",
      "Imprimo 0\n",
      "Imprimo 2\n",
      "Imprimo 3\n"
     ]
    }
   ],
   "source": [
    "a=[1 0 2 3];\n",
    "printf('Imprimo %d\\n', a)"
   ]
  }
 ],
 "metadata": {
  "kernelspec": {
   "display_name": "Octave",
   "language": "octave",
   "name": "octave"
  },
  "language_info": {
   "file_extension": ".m",
   "help_links": [
    {
     "text": "MetaKernel Magics",
     "url": "https://github.com/calysto/metakernel/blob/master/metakernel/magics/README.md"
    }
   ],
   "mimetype": "text/x-octave",
   "name": "octave",
   "version": "0.15.7"
  }
 },
 "nbformat": 4,
 "nbformat_minor": 0
}
