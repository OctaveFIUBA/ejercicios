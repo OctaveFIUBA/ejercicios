{
 "cells": [
  {
   "cell_type": "markdown",
   "metadata": {},
   "source": [
    "# Ajuste de curvas"
   ]
  },
  {
   "cell_type": "markdown",
   "metadata": {},
   "source": [
    "## Genero un set de datos para ajustar"
   ]
  },
  {
   "cell_type": "markdown",
   "metadata": {},
   "source": [
    "Voy a simular que tengo 15 mediciones. Los valores en x son equiespaciadas entre 1 y 3, y los valores en y los obtengo con la ecuación $y = ax^b$, donde elejí los valores $a=3.1$ y $b=2.7$.\n",
    "\n",
    "Como en la vida real las mediciones no van a ser perfectas, le sumo ruido blanco. Es decir, a cada valor obtenido en y le sumo una realización de una variable aleatoria con $\\mu=0$ y $\\sigma=1.5$.\n",
    "\n",
    "**Nota:** *randn()* devuelve un numero aleatorio con distribución $\\mathcal{N}(0,1)$, por eso lo multiplico por 1.5 para tener dicho desvío estandar (esto lo hice a ojo simplemente para que quede bonito el gráfico). Si jugás aumentando el desvío vas a ver cómo va a empeorar la bondad de ajuste. Si querés podes usar *rand()* que devuelve numeros con distribución $\\mathcal{U}(0,1)$ o inventar otra distribución que simule tus perturbaciones experimentales."
   ]
  },
  {
   "cell_type": "code",
   "execution_count": 8,
   "metadata": {
    "collapsed": false
   },
   "outputs": [
    {
     "data": {
      "image/png": "[encoded data removed]",
      "text/plain": [
       "<IPython.core.display.Image object>"
      ]
     },
     "metadata": {},
     "output_type": "display_data"
    }
   ],
   "source": [
    "% Genero un vector con las x\n",
    "x = linspace(1,3,15);\n",
    "\n",
    "% Mis parámetros a y b reales\n",
    "a = 3.1;\n",
    "b = 2.7;\n",
    "\n",
    "% Genero mis muestras, les sumo una variable aleatoria (ruido de medición)\n",
    "y = a*x.^b + 1.5*randn( size(x) );\n",
    "\n",
    "% Grafico mis puntos\n",
    "figure;\n",
    "plot(x,y, '.')\n",
    "title('Mediciones Inventadas')"
   ]
  },
  {
   "cell_type": "markdown",
   "metadata": {},
   "source": [
    "## Ajuste de los datos con nlinfit()"
   ]
  },
  {
   "cell_type": "markdown",
   "metadata": {},
   "source": [
    "Antes que nada, la función que utilizo para ajustar se encuentra en el paquete **optim** (que se encuentra en http://octave.sourceforge.net/optim). Si ya está descargado, el siguiente comando no tendría que tirar error:"
   ]
  },
  {
   "cell_type": "code",
   "execution_count": 9,
   "metadata": {
    "collapsed": true
   },
   "outputs": [],
   "source": [
    "% Voy a cargar el paquete \"optim\".\n",
    "pkg load optim"
   ]
  },
  {
   "cell_type": "markdown",
   "metadata": {},
   "source": [
    "Si el comando anterior tira error, hay que instalar el paquete. Si Octave está bien instalado, basta con ejecutar los siguientes comandos (en orden) y luego volver a intentar ejecutar **pkg load optim**:"
   ]
  },
  {
   "cell_type": "markdown",
   "metadata": {},
   "source": [
    "% pkg install -forge struct\n",
    "% pkg install -forge optim\n",
    "% (no poner el % adelante de pkg)"
   ]
  },
  {
   "cell_type": "markdown",
   "metadata": {},
   "source": [
    "Ahora voy a ajustar mis datos con la función $f(x |_{a,b}) = a x^{b}$\n",
    "\n",
    "Donde a y b serán mis parámetros a determinar. Básicamente, lo que hago es\n",
    "$$a, b = \\text{argmin}_{a,b} \\sum_i || y_i - f(x_i|_{a,b}) ||^2 $$\n",
    "\n",
    "Y el residuo $Res$ es un vector de la forma:\n",
    "$$Res_i = y_i - f(x_i|_{a,b})$$\n",
    "\n",
    "Y la bondad de ajuste se calcula como:\n",
    "\n",
    "$$R^2 = 1 - \\frac{\\sigma^2_{Res} } {\\sigma^2_{y}}$$"
   ]
  },
  {
   "cell_type": "code",
   "execution_count": 10,
   "metadata": {
    "collapsed": false
   },
   "outputs": [
    {
     "name": "stdout",
     "output_type": "stream",
     "text": [
      "Parametros Ajuste:\n",
      "   2.9888\n",
      "   2.7312\n",
      "Bondad de Ajuste (R^2):\n",
      " 0.99356\n"
     ]
    }
   ],
   "source": [
    "% Armo la función de ajuste. beta es un vector con los parámetros a y b.\n",
    "% En este caso: beta(1) = a_estimado; beta(2) = b_estimado\n",
    "\n",
    "fn_potencial = @(beta, X)  beta(1).* X.^beta(2);\n",
    "\n",
    "%% Realizo el ajuste.\n",
    "% beta0 es una semilla para los parámetros a determinar\n",
    "beta0 = [1 1]; % Por poner algo\n",
    "\n",
    "% Esta función devuelve los parámetros en beta y los residuos de cada punto en R\n",
    "[beta, R] = nlinfit(x, y, fn_potencial, beta0 );\n",
    "\n",
    "% Calculo la bondad de ajuste\n",
    "R_2 = 1 - var(R) / var(y);\n",
    "\n",
    "% Muestro qué me dio el ajuste\n",
    "disp('Parametros Ajuste:'), disp(beta);\n",
    "disp('Bondad de Ajuste (R^2):'),disp(R_2);"
   ]
  },
  {
   "cell_type": "markdown",
   "metadata": {
    "collapsed": true
   },
   "source": [
    "Ya que tengo los valores de beta, dibujo la curva ajustada."
   ]
  },
  {
   "cell_type": "code",
   "execution_count": 11,
   "metadata": {
    "collapsed": false,
    "scrolled": false
   },
   "outputs": [
    {
     "data": {
      "image/png": "[encoded data removed]",
      "text/plain": [
       "<IPython.core.display.Image object>"
      ]
     },
     "metadata": {},
     "output_type": "display_data"
    }
   ],
   "source": [
    "x_ajuste = linspace(0,4,100);\n",
    "y_ajuste = fn_potencial(beta, x_ajuste);\n",
    "\n",
    "figure;\n",
    "hold on;\n",
    "plot(x,y, '.');\n",
    "plot(x_ajuste, y_ajuste)\n",
    "\n",
    "% Y pongo los labels\n",
    "legend('Datos', 'Ajuste',   'Location', 'NorthWest' );\n",
    "text(0.5, 60, ...\n",
    "        ['y*=' num2str(beta(1), 3) 'x + ' num2str(beta(2), 3)]);\n",
    "text(0.5, 40, ['R2=' num2str(R_2,3)] );\n",
    "\n",
    "title('Ajuste por cuadrados minimos');\n",
    "xlabel('x');\n",
    "ylabel('y');"
   ]
  }
 ],
 "metadata": {
  "kernelspec": {
   "display_name": "Octave",
   "language": "octave",
   "name": "octave"
  },
  "language_info": {
   "file_extension": ".m",
   "help_links": [
    {
     "text": "MetaKernel Magics",
     "url": "https://github.com/calysto/metakernel/blob/master/metakernel/magics/README.md"
    }
   ],
   "mimetype": "text/x-octave",
   "name": "octave",
   "version": "0.15.7"
  }
 },
 "nbformat": 4,
 "nbformat_minor": 0
}
